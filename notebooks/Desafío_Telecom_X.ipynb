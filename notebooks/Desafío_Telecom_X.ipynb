{
  "cells": [
    {
      "cell_type": "markdown",
      "metadata": {
        "id": "TJLEJfirJ5RP"
      },
      "source": [
        "# Análisis de Evasión de Clientes (Churn) - TelecomX\n",
        "\n",
        "Este notebook explora y analiza los factores que influyen en la evasión de clientes (churn) en una empresa de telecomunicaciones. Se abordan todas las etapas del proceso de ciencia de datos: extracción, limpieza, transformación, análisis exploratorio y visualización, con el objetivo de identificar patrones y proponer estrategias de retención.\n",
        "\n",
        "---"
      ]
    },
    {
      "cell_type": "code",
      "execution_count": null,
      "metadata": {},
      "outputs": [
        {
          "ename": "",
          "evalue": "",
          "output_type": "error",
          "traceback": [
            "\u001b[1;31mRunning cells with 'Python 3.12.8' requires the ipykernel package.\n",
            "\u001b[1;31m<a href='command:jupyter.createPythonEnvAndSelectController'>Create a Python Environment</a> with the required packages.\n",
            "\u001b[1;31mOr install 'ipykernel' using the command: '\"c:/Users/Jorge HN/AppData/Local/Programs/Python/Python312/python.exe\" -m pip install ipykernel -U --user --force-reinstall'"
          ]
        }
      ],
      "source": [
        "# Importación de librerías principales\n",
        "# ----------------------------------\n",
        "# pandas: manipulación y análisis de datos\n",
        "# matplotlib y seaborn: visualización de datos\n",
        "import pandas as pd\n",
        "import matplotlib.pyplot as plt\n",
        "import seaborn as sns\n"
      ]
    },
    {
      "cell_type": "markdown",
      "metadata": {
        "id": "MetKdrlOJ89k"
      },
      "source": [
        "## 1. Extracción de Datos\n",
        "\n",
        "En esta sección se importan los datos originales y se realiza una primera inspección para conocer la estructura y el contenido del dataset."
      ]
    },
    {
      "cell_type": "code",
      "execution_count": null,
      "metadata": {
        "id": "VDjSwAilLtsI"
      },
      "outputs": [],
      "source": [
        "# Cargar los datos desde el archivo JSON\n",
        "# Asegúrate de que la ruta sea correcta según tu entorno\n",
        "# El archivo debe estar en la carpeta notebooks/\n",
        "df = pd.read_json('TelecomX_Data.json')\n",
        "\n",
        "# Vista rápida de los primeros registros para validar la carga\n",
        "df.head()"
      ]
    },
    {
      "cell_type": "code",
      "execution_count": null,
      "metadata": {
        "colab": {
          "base_uri": "https://localhost:8080/",
          "height": 293
        },
        "id": "tAa-kuV7Lv8S",
        "outputId": "14cc6d57-e4a7-45e5-f1b3-36bd2abd9242"
      },
      "outputs": [],
      "source": [
        "df = pd.read_json('/content/TelecomX_Data.json')\n",
        "df.head()"
      ]
    },
    {
      "cell_type": "markdown",
      "metadata": {
        "id": "Z3Y_rX4NJ-yA"
      },
      "source": [
        "## 2. Transformación de Datos\n",
        "\n",
        "Se realiza limpieza, normalización y transformación de las variables para preparar el dataset para el análisis. Incluye manejo de valores nulos, duplicados, creación de nuevas variables y estandarización de nombres."
      ]
    },
    {
      "cell_type": "markdown",
      "metadata": {
        "id": "ClIkEQUjkEiD"
      },
      "source": [
        "### Conoce el cojunto de datos"
      ]
    },
    {
      "cell_type": "code",
      "execution_count": null,
      "metadata": {
        "colab": {
          "base_uri": "https://localhost:8080/"
        },
        "id": "EcZGQEOJMnRZ",
        "outputId": "ab69ced9-a95f-4259-86d3-7b228791f5e6"
      },
      "outputs": [],
      "source": [
        "# Inspección general de la estructura del DataFrame\n",
        "# Muestra información sobre columnas, tipos de datos y valores nulos\n",
        "df.info()"
      ]
    },
    {
      "cell_type": "code",
      "execution_count": null,
      "metadata": {
        "colab": {
          "base_uri": "https://localhost:8080/",
          "height": 272
        },
        "id": "zbCyt8gdMwbM",
        "outputId": "82776c45-aca8-409c-ce30-1e9e046dee0d"
      },
      "outputs": [],
      "source": [
        "# Visualizar los tipos de datos de cada columna\n",
        "# Útil para identificar variables categóricas y numéricas\n",
        "df.dtypes"
      ]
    },
    {
      "cell_type": "markdown",
      "metadata": {
        "id": "3Bej93sXkJbB"
      },
      "source": [
        "### Valores nulos"
      ]
    },
    {
      "cell_type": "code",
      "execution_count": null,
      "metadata": {
        "colab": {
          "base_uri": "https://localhost:8080/",
          "height": 272
        },
        "id": "P6naqyu1kgjD",
        "outputId": "d0f90b7c-4829-4f52-ad0c-dbc0adec09c6"
      },
      "outputs": [],
      "source": [
        "# Detección de valores nulos en cada columna\n",
        "# Importante para decidir estrategias de limpieza de datos\n",
        "df.isnull().sum()"
      ]
    },
    {
      "cell_type": "code",
      "execution_count": null,
      "metadata": {
        "colab": {
          "base_uri": "https://localhost:8080/"
        },
        "id": "EU8AO9M7lmAt",
        "outputId": "8aca8489-d826-4cae-cdef-0d572d1a8885"
      },
      "outputs": [],
      "source": [
        "# Verificar si existen IDs de cliente duplicados\n",
        "# Un ID duplicado puede indicar un problema de integridad en los datos\n",
        "df['customerID'].duplicated().sum()"
      ]
    },
    {
      "cell_type": "markdown",
      "metadata": {
        "id": "vsZNBEqLmWR2"
      },
      "source": [
        "### Normalizamos todas las columnas"
      ]
    },
    {
      "cell_type": "code",
      "execution_count": null,
      "metadata": {
        "colab": {
          "base_uri": "https://localhost:8080/"
        },
        "id": "sTuTpgBUmZKF",
        "outputId": "e41bf00b-ec34-40f3-d317-e9b91739df20"
      },
      "outputs": [],
      "source": [
        "# Normalización de sub-diccionarios y unión al DataFrame principal\n",
        "# Cada sección (customer, phone, internet, account) se expande a columnas propias\n",
        "\n",
        "df_customer = pd.json_normalize(df['customer'])  # Datos personales\n",
        "\n",
        "df_phone = pd.json_normalize(df['phone'])        # Servicios telefónicos\n",
        "\n",
        "df_internet = pd.json_normalize(df['internet'])  # Servicios de internet\n",
        "\n",
        "df_account = pd.json_normalize(df['account'])    # Información de cuenta\n",
        "\n",
        "# Unir todas las columnas relevantes en un solo DataFrame\n",
        "# Se conservan las columnas clave y se eliminan duplicados\n",
        "\n",
        "df = pd.concat([df[['customerID', 'Churn']], df_customer, df_phone, df_internet, df_account], axis=1)\n",
        "\n",
        "df.duplicated().sum()  # Verificar duplicados en el DataFrame final"
      ]
    },
    {
      "cell_type": "markdown",
      "metadata": {
        "id": "APBL7Zv_n7oQ"
      },
      "source": [
        "### Manejo de inconsistencias"
      ]
    },
    {
      "cell_type": "code",
      "execution_count": null,
      "metadata": {
        "id": "suN6blcTmzXV"
      },
      "outputs": [],
      "source": [
        "# Limpieza de la columna 'Churn'\n",
        "# Se eliminan espacios y se estandariza el formato (primera letra mayúscula)\n",
        "df['Churn'] = df['Churn'].str.strip().str.capitalize()"
      ]
    },
    {
      "cell_type": "code",
      "execution_count": null,
      "metadata": {
        "colab": {
          "base_uri": "https://localhost:8080/",
          "height": 342
        },
        "id": "9u4-FhjNm_IQ",
        "outputId": "56465082-4012-4abe-8a35-0aa57a9ca6a6"
      },
      "outputs": [],
      "source": [
        "# Visualizar los primeros registros tras la limpieza y transformación\n",
        "df.head()"
      ]
    },
    {
      "cell_type": "code",
      "execution_count": null,
      "metadata": {
        "colab": {
          "base_uri": "https://localhost:8080/",
          "height": 300
        },
        "id": "WiCFzcVhm7BS",
        "outputId": "2556c38d-2575-44a3-8d34-a137f768d0ac"
      },
      "outputs": [],
      "source": [
        "df_customer.describe()"
      ]
    },
    {
      "cell_type": "code",
      "execution_count": null,
      "metadata": {
        "colab": {
          "base_uri": "https://localhost:8080/",
          "height": 147
        },
        "id": "s-J9oginngjb",
        "outputId": "137c8e74-dae7-414f-e75a-d153d2575ffb"
      },
      "outputs": [],
      "source": [
        "df[df['tenure'] == 0].groupby('Churn').size()"
      ]
    },
    {
      "cell_type": "code",
      "execution_count": null,
      "metadata": {
        "id": "s8gz_qxxnv--"
      },
      "outputs": [],
      "source": [
        "median_tenure = df[df['tenure'] > 0]['tenure'].median()\n",
        "df.loc[(df['tenure'] == 0) & (df['Churn'] == 'No'), 'tenure'] = median_tenure\n"
      ]
    },
    {
      "cell_type": "markdown",
      "metadata": {
        "id": "uNApTx45oEsX"
      },
      "source": [
        "### Columna de cuentas diarias"
      ]
    },
    {
      "cell_type": "code",
      "execution_count": null,
      "metadata": {
        "colab": {
          "base_uri": "https://localhost:8080/"
        },
        "id": "GERCUrTXoQv-",
        "outputId": "a5ec8380-e3d5-4a91-9ff5-2099a42a5a25"
      },
      "outputs": [],
      "source": [
        "df.columns"
      ]
    },
    {
      "cell_type": "code",
      "execution_count": null,
      "metadata": {
        "id": "L4f43DsioIHh"
      },
      "outputs": [],
      "source": [
        "\n",
        "df['Cuentas_Diarias'] = df['Charges.Monthly'].fillna(0) / 30\n"
      ]
    },
    {
      "cell_type": "code",
      "execution_count": null,
      "metadata": {
        "colab": {
          "base_uri": "https://localhost:8080/",
          "height": 206
        },
        "id": "WAAgd_3goaUT",
        "outputId": "e135a9ed-23f5-45f1-dde7-7bed997b2941"
      },
      "outputs": [],
      "source": [
        "df[['Charges.Monthly', 'Cuentas_Diarias']].head()\n"
      ]
    },
    {
      "cell_type": "code",
      "execution_count": null,
      "metadata": {
        "colab": {
          "base_uri": "https://localhost:8080/"
        },
        "id": "l8YCccNirGWD",
        "outputId": "883d3607-00a4-4ba0-e5ee-e621f678de10"
      },
      "outputs": [],
      "source": [
        "# Crear copia para seguridad (opcional)\n",
        "df = df.copy()\n",
        "\n",
        "# Convertir columnas de Sí/No a binario\n",
        "cols_binarias = ['Churn', 'Partner', 'Dependents', 'PaperlessBilling']\n",
        "\n",
        "for col in cols_binarias:\n",
        "    df[col + '_Binario'] = df[col].map({'Yes': 1, 'No': 0})\n",
        "\n",
        "# Renombrar columnas para mayor claridad\n",
        "df.rename(columns={\n",
        "    'Charges.Monthly': 'Facturacion_Mensual',\n",
        "    'Charges.Total': 'Facturacion_Total',\n",
        "    'tenure': 'Meses_Cliente'\n",
        "}, inplace=True)\n",
        "\n",
        "# Revisar cómo quedó\n",
        "print(df.head())\n"
      ]
    },
    {
      "cell_type": "markdown",
      "metadata": {
        "id": "AGe3F92kKBtz"
      },
      "source": [
        "## 3. Análisis y Carga de Datos\n",
        "\n",
        "En esta etapa se exploran los datos transformados, se generan estadísticas descriptivas y se visualizan patrones relevantes para el churn."
      ]
    },
    {
      "cell_type": "markdown",
      "metadata": {
        "id": "PGlEvVsUs5eT"
      },
      "source": [
        "### Analisis descritivo"
      ]
    },
    {
      "cell_type": "code",
      "execution_count": null,
      "metadata": {
        "colab": {
          "base_uri": "https://localhost:8080/"
        },
        "id": "07nwcfqUllSi",
        "outputId": "61d11770-8e2f-4870-d990-06b2ee5dfb30"
      },
      "outputs": [],
      "source": [
        "# Estadísticas descriptivas para todas las columnas numéricas\n",
        "print(df.describe())\n"
      ]
    },
    {
      "cell_type": "markdown",
      "metadata": {
        "id": "2RfXlziQtXT-"
      },
      "source": [
        "### Distribucion de evasion"
      ]
    },
    {
      "cell_type": "code",
      "execution_count": null,
      "metadata": {
        "colab": {
          "base_uri": "https://localhost:8080/",
          "height": 1000
        },
        "id": "GBKjW3vDtUNf",
        "outputId": "97626588-db51-4a9d-ca61-583f3cddb438"
      },
      "outputs": [],
      "source": [
        "import matplotlib.pyplot as plt\n",
        "import seaborn as sns\n",
        "\n",
        "# Configurar estilo\n",
        "sns.set(style=\"whitegrid\", font_scale=1.1)\n",
        "custom_palette = ['#4F8EF7', '#F76E6E']  # Azul y rojo suave\n",
        "\n",
        "# Contar valores únicos de Churn\n",
        "churn_counts = df['Churn'].value_counts()\n",
        "\n",
        "# Mostrar tabla de proporciones\n",
        "print(\"Conteo de clientes por Churn:\\n\", churn_counts)\n",
        "print(\"\\nProporción:\\n\", churn_counts / len(df))\n",
        "\n",
        "# 📊 1️⃣ Gráfico de barras personalizado\n",
        "plt.figure(figsize=(7,5))\n",
        "ax = sns.countplot(data=df, x='Churn', palette=custom_palette, edgecolor='black', linewidth=2)\n",
        "plt.title('Distribución de Evasión de Clientes (Churn)', fontsize=15, fontweight='bold')\n",
        "plt.xlabel('Churn', fontsize=12)\n",
        "plt.ylabel('Número de Clientes', fontsize=12)\n",
        "for p in ax.patches:\n",
        "    ax.annotate(f'{int(p.get_height())}', (p.get_x() + p.get_width() / 2., p.get_height()),\n",
        "                ha='center', va='center', fontsize=11, color='black', xytext=(0, 10), textcoords='offset points')\n",
        "plt.tight_layout()\n",
        "plt.show()\n",
        "\n",
        "# 🥧 2️⃣ Gráfico de pastel personalizado\n",
        "plt.figure(figsize=(7,7))\n",
        "wedges, texts, autotexts = plt.pie(\n",
        "    churn_counts,\n",
        "    labels=churn_counts.index,\n",
        "    autopct='%1.1f%%',\n",
        "    colors=custom_palette,\n",
        "    startangle=120,\n",
        "    textprops={'fontsize': 13},\n",
        "    wedgeprops={'edgecolor': 'white', 'linewidth': 2}\n",
        ")\n",
        "plt.setp(autotexts, weight='bold', color='white')\n",
        "plt.title('Proporción de Clientes que se Van vs. se Quedan', fontsize=15, fontweight='bold')\n",
        "plt.tight_layout()\n",
        "plt.show()\n"
      ]
    },
    {
      "cell_type": "markdown",
      "metadata": {
        "id": "vhd_Ei6JuLHz"
      },
      "source": [
        "### Recuento de evasión por variables categóricas"
      ]
    },
    {
      "cell_type": "markdown",
      "metadata": {
        "id": "NxDaNj02uPXp"
      },
      "source": [
        "#### Distribución de Churn por Género"
      ]
    },
    {
      "cell_type": "code",
      "execution_count": null,
      "metadata": {
        "colab": {
          "base_uri": "https://localhost:8080/",
          "height": 565
        },
        "id": "7SPuv2_WuNI9",
        "outputId": "a9e205fa-3957-4ba1-a125-83fba1861ea0"
      },
      "outputs": [],
      "source": [
        "# Gráfico de barras: Evasión de Clientes por Género\n",
        "plt.figure(figsize=(8,5))\n",
        "ax = sns.countplot(data=df, x='gender', hue='Churn', palette=custom_palette, edgecolor='black', linewidth=2)\n",
        "plt.title('Evasión de Clientes por Género', fontsize=14, fontweight='bold')\n",
        "plt.xlabel('Género', fontsize=12)\n",
        "plt.ylabel('Número de Clientes', fontsize=12)\n",
        "plt.legend(title='Churn', fontsize=11, title_fontsize=12)\n",
        "for p in ax.patches:\n",
        "    height = int(p.get_height())\n",
        "    if height > 0:\n",
        "        ax.annotate(f'{height}', (p.get_x() + p.get_width() / 2., height),\n",
        "                    ha='center', va='center', fontsize=10, color='black', xytext=(0, 8), textcoords='offset points')\n",
        "plt.tight_layout()\n",
        "plt.show()\n",
        "\n",
        "# Tabla de proporción por género y churn\n",
        "print(df.groupby(['gender', 'Churn']).size().unstack())\n"
      ]
    },
    {
      "cell_type": "markdown",
      "metadata": {
        "id": "iNsvUMbvxnY_"
      },
      "source": [
        "#### Distribución de Churn por Tipo de Contrato"
      ]
    },
    {
      "cell_type": "code",
      "execution_count": null,
      "metadata": {
        "colab": {
          "base_uri": "https://localhost:8080/",
          "height": 615
        },
        "id": "_FG7qDuxxqSf",
        "outputId": "a09abeb7-b926-4ef5-9c51-6e3e0f87c3a4"
      },
      "outputs": [],
      "source": [
        "# Gráfico de barras: Evasión de Clientes por Tipo de Contrato\n",
        "plt.figure(figsize=(10,5))\n",
        "ax = sns.countplot(data=df, x='Contract', hue='Churn', palette=custom_palette, edgecolor='black', linewidth=2)\n",
        "plt.title('Evasión de Clientes por Tipo de Contrato', fontsize=14, fontweight='bold')\n",
        "plt.xlabel('Tipo de Contrato', fontsize=12)\n",
        "plt.ylabel('Número de Clientes', fontsize=12)\n",
        "plt.xticks(rotation=15)\n",
        "plt.legend(title='Churn', fontsize=11, title_fontsize=12)\n",
        "for p in ax.patches:\n",
        "    height = int(p.get_height())\n",
        "    if height > 0:\n",
        "        ax.annotate(f'{height}', (p.get_x() + p.get_width() / 2., height),\n",
        "                    ha='center', va='center', fontsize=10, color='black', xytext=(0, 8), textcoords='offset points')\n",
        "plt.tight_layout()\n",
        "plt.show()\n",
        "\n",
        "# Tabla de proporción por tipo de contrato y churn\n",
        "print(df.groupby(['Contract', 'Churn']).size().unstack())\n"
      ]
    },
    {
      "cell_type": "markdown",
      "metadata": {
        "id": "jdLc7XVYxuGY"
      },
      "source": [
        "#### Distribución de Churn por Método de Pago"
      ]
    },
    {
      "cell_type": "code",
      "execution_count": null,
      "metadata": {
        "colab": {
          "base_uri": "https://localhost:8080/",
          "height": 698
        },
        "id": "PpRNBl_uxxBC",
        "outputId": "e3ea19eb-8653-4759-b4b7-af0bb8fa3de1"
      },
      "outputs": [],
      "source": [
        "# Gráfico de barras: Evasión de Clientes por Método de Pago\n",
        "plt.figure(figsize=(12,5))\n",
        "ax = sns.countplot(data=df, x='PaymentMethod', hue='Churn', palette=custom_palette, edgecolor='black', linewidth=2)\n",
        "plt.title('Evasión de Clientes por Método de Pago', fontsize=14, fontweight='bold')\n",
        "plt.xlabel('Método de Pago', fontsize=12)\n",
        "plt.ylabel('Número de Clientes', fontsize=12)\n",
        "plt.xticks(rotation=30)\n",
        "plt.legend(title='Churn', fontsize=11, title_fontsize=12)\n",
        "for p in ax.patches:\n",
        "    height = int(p.get_height())\n",
        "    if height > 0:\n",
        "        ax.annotate(f'{height}', (p.get_x() + p.get_width() / 2., height),\n",
        "                    ha='center', va='center', fontsize=10, color='black', xytext=(0, 8), textcoords='offset points')\n",
        "plt.tight_layout()\n",
        "plt.show()\n",
        "\n",
        "# Tabla de proporción por método de pago y churn\n",
        "print(df.groupby(['PaymentMethod', 'Churn']).size().unstack())\n"
      ]
    },
    {
      "cell_type": "markdown",
      "metadata": {
        "id": "ICwIdQQdx7hX"
      },
      "source": [
        "#### Conteo de evasión por variables numéricas"
      ]
    },
    {
      "cell_type": "code",
      "execution_count": null,
      "metadata": {
        "id": "xczh0XZGy41h"
      },
      "outputs": [],
      "source": [
        "import seaborn as sns"
      ]
    },
    {
      "cell_type": "markdown",
      "metadata": {
        "id": "scStz4xcy03v"
      },
      "source": [
        "##### Boxplot: Total Gastado vs Churn"
      ]
    },
    {
      "cell_type": "code",
      "execution_count": null,
      "metadata": {
        "colab": {
          "base_uri": "https://localhost:8080/"
        },
        "id": "MZ75C2c5zQ8f",
        "outputId": "ee8c90b1-b052-488b-ac47-a74f3c365728"
      },
      "outputs": [],
      "source": [
        "print(df.columns)\n"
      ]
    },
    {
      "cell_type": "code",
      "execution_count": null,
      "metadata": {
        "colab": {
          "base_uri": "https://localhost:8080/",
          "height": 603
        },
        "id": "WXMPOSsZy3GW",
        "outputId": "b15379e1-54c4-4619-9860-b26fdcda4863"
      },
      "outputs": [],
      "source": [
        "plt.figure(figsize=(8,5))\n",
        "ax = sns.boxplot(data=df, x='Churn', y='Facturacion_Total', hue='Churn', palette=custom_palette, linewidth=2, fliersize=3, legend=False)\n",
        "plt.title('Distribución de Total Gastado según Evasión', fontsize=14, fontweight='bold')\n",
        "plt.xlabel('Churn', fontsize=12)\n",
        "plt.ylabel('Facturación Total', fontsize=12)\n",
        "plt.grid(axis='y', linestyle='--', alpha=0.7)\n",
        "plt.legend([],[], frameon=False)  # Oculta la leyenda duplicada\n",
        "plt.tight_layout()\n",
        "plt.show()\n"
      ]
    },
    {
      "cell_type": "markdown",
      "metadata": {
        "id": "Aq_m8er30Rcc"
      },
      "source": [
        "##### Boxplot: Meses como cliente vs. Evasión"
      ]
    },
    {
      "cell_type": "code",
      "execution_count": null,
      "metadata": {
        "colab": {
          "base_uri": "https://localhost:8080/",
          "height": 603
        },
        "id": "7570DqOq0Qrg",
        "outputId": "4d1c6fea-0ca0-4a83-c850-005168f328fb"
      },
      "outputs": [],
      "source": [
        "plt.figure(figsize=(8,5))\n",
        "ax = sns.boxplot(data=df, x='Churn', y='Meses_Cliente', palette=custom_palette, linewidth=2, fliersize=3)\n",
        "plt.title('Distribución de Meses como Cliente según Evasión', fontsize=14, fontweight='bold')\n",
        "plt.xlabel('Churn', fontsize=12)\n",
        "plt.ylabel('Meses Cliente', fontsize=12)\n",
        "plt.grid(axis='y', linestyle='--', alpha=0.7)\n",
        "plt.tight_layout()\n",
        "plt.show()\n"
      ]
    },
    {
      "cell_type": "markdown",
      "metadata": {
        "id": "k7tCATP90Xil"
      },
      "source": [
        "##### Histograma: Facturación Total segmentada por Evasión"
      ]
    },
    {
      "cell_type": "code",
      "execution_count": null,
      "metadata": {
        "colab": {
          "base_uri": "https://localhost:8080/",
          "height": 551
        },
        "id": "4QOwji6I0Yo9",
        "outputId": "63a04aa8-2d09-4301-821e-0a06f9d7eee1"
      },
      "outputs": [],
      "source": [
        "plt.figure(figsize=(8,5))\n",
        "ax = sns.histplot(data=df, x='Facturacion_Total', hue='Churn', bins=30, kde=True, palette=custom_palette, alpha=0.7, edgecolor='black')\n",
        "plt.title('Histograma de Facturación Total según Evasión', fontsize=14, fontweight='bold')\n",
        "plt.xlabel('Facturación Total', fontsize=12)\n",
        "plt.ylabel('Frecuencia', fontsize=12)\n",
        "plt.legend(title='Churn', fontsize=11, title_fontsize=12)\n",
        "plt.grid(axis='y', linestyle='--', alpha=0.7)\n",
        "plt.tight_layout()\n",
        "plt.show()\n"
      ]
    },
    {
      "cell_type": "markdown",
      "metadata": {
        "id": "CnOHCpQ4KDVF"
      },
      "source": [
        "## INFORME FINAL\n",
        "\n",
        "## 4. Informe Final y Conclusiones\n",
        "\n",
        "Resumen de hallazgos, insights clave y recomendaciones estratégicas basadas en el análisis realizado. Esta sección sintetiza los resultados y sugiere acciones para reducir la evasión de clientes."
      ]
    },
    {
      "cell_type": "markdown",
      "metadata": {
        "id": "rD7lc0NO0w6l"
      },
      "source": [
        "# Informe Final: Análisis de Evasión de Clientes (Churn)\n",
        "\n",
        "---\n",
        "\n",
        "## 1. Introducción\n",
        "En este proyecto se analizó un conjunto de datos de clientes de una empresa de telecomunicaciones con el objetivo principal de identificar patrones asociados a la evasión de clientes (**churn**). Entender por qué los clientes cancelan el servicio permite diseñar estrategias para reducir la deserción y fidelizar usuarios.\n",
        "\n",
        "---\n",
        "\n",
        "## 2. Limpieza y Tratamiento de Datos\n",
        "**Principales pasos realizados:**\n",
        "- Importación de datos y revisión de estructura.\n",
        "- Eliminación de registros duplicados y valores nulos, asegurando consistencia.\n",
        "- Conversión de variables categóricas a variables binarias para facilitar el análisis (Sí / No → 1 / 0).\n",
        "- Creación de nuevas columnas derivadas como:\n",
        "  - **Cuentas_Diarias:** Facturación mensual dividida por 30 para estimar gasto diario.\n",
        "  - **Meses_Cliente:** Ajustando el nombre de tenure.\n",
        "- Estandarización de nombres de columnas para mejor legibilidad.\n",
        "\n",
        "---\n",
        "\n",
        "## 3. Análisis Exploratorio de Datos\n",
        "**Visualizaciones y hallazgos:**\n",
        "- **Distribución general de churn:**\n",
        "  - Proporción de clientes que permanecen vs. clientes que abandonan.\n",
        "- **Churn vs. variables categóricas:**\n",
        "  - Comparativas de churn por género, tipo de contrato, método de pago, etc.\n",
        "  - Revelan diferencias clave entre perfiles de clientes.\n",
        "- **Churn vs. variables numéricas:**\n",
        "  - Análisis de Facturacion_Total, Facturacion_Mensual y Meses_Cliente.\n",
        "  - Boxplots, violinplots e histogramas evidencian cómo se comportan los montos gastados y el tiempo de permanencia respecto a la evasión.\n",
        "\n",
        "---\n",
        "\n",
        "## 4. Conclusiones e Insights\n",
        "\n",
        "- **Clientes con menor tiempo de permanencia tienen mayor tendencia a cancelar.**\n",
        "- **Clientes con facturación mensual más baja muestran una tasa de churn ligeramente mayor.**\n",
        "- **Contratos de tipo mes a mes están más asociados con churn que contratos a largo plazo.**\n",
        "- **Métodos de pago automáticos tienden a retener mejor a los clientes que pagos manuales.**\n",
        "\n",
        "Estos patrones permiten perfilar grupos de riesgo y focalizar estrategias.\n",
        "\n",
        "---\n",
        "\n",
        "## 5. Recomendaciones\n",
        "\n",
        "- Incentivar contratos de mayor plazo mediante descuentos o beneficios exclusivos.\n",
        "- Diseñar programas de fidelización para clientes con baja facturación, fomentando la venta cruzada de servicios.\n",
        "- Promover métodos de pago automáticos mediante campañas de concienciación o bonificaciones.\n",
        "- Implementar un seguimiento proactivo a clientes con pocos meses de servicio para aumentar la retención desde el inicio.\n",
        "\n",
        "---\n",
        "\n",
        "##  Cierre\n",
        "Este análisis es un primer paso hacia la reducción de la evasión de clientes. Implementar estrategias basadas en estos hallazgos puede traducirse en mayor lealtad, ingresos sostenibles y crecimiento empresarial."
      ]
    },
    {
      "cell_type": "markdown",
      "metadata": {
        "id": "V9tRaOzK045W"
      },
      "source": [
        "## Extra"
      ]
    },
    {
      "cell_type": "markdown",
      "metadata": {
        "id": "Hl8t_Eko08Vj"
      },
      "source": [
        "### Calcular matriz de correlación"
      ]
    },
    {
      "cell_type": "code",
      "execution_count": null,
      "metadata": {
        "colab": {
          "base_uri": "https://localhost:8080/"
        },
        "id": "8EHwHX_P09Wg",
        "outputId": "d8d83b7f-e64c-4869-f1a4-20fdb637685a"
      },
      "outputs": [],
      "source": [
        "# Solo columnas numéricas\n",
        "corr_matrix = df.select_dtypes(include=['int64', 'float64']).corr()\n",
        "\n",
        "# Visualizar la matriz\n",
        "print(corr_matrix)\n"
      ]
    },
    {
      "cell_type": "markdown",
      "metadata": {
        "id": "ec3lLUkb1AF6"
      },
      "source": [
        "### Visualizar la matriz con un mapa de calor"
      ]
    },
    {
      "cell_type": "code",
      "execution_count": null,
      "metadata": {
        "colab": {
          "base_uri": "https://localhost:8080/",
          "height": 925
        },
        "id": "dN6S1DgA1BWv",
        "outputId": "ef5aa8ec-d38d-4f47-ee37-9ba5267fbe97"
      },
      "outputs": [],
      "source": [
        "import seaborn as sns\n",
        "import matplotlib.pyplot as plt\n",
        "\n",
        "plt.figure(figsize=(12, 8))\n",
        "sns.heatmap(corr_matrix, annot=True, cmap='coolwarm', fmt='.2f')\n",
        "plt.title('📊 Matriz de Correlación')\n",
        "plt.show()\n"
      ]
    },
    {
      "cell_type": "markdown",
      "metadata": {
        "id": "Wf3qvFNO1EdP"
      },
      "source": [
        "### Visualizar relaciones específicas"
      ]
    },
    {
      "cell_type": "code",
      "execution_count": null,
      "metadata": {
        "colab": {
          "base_uri": "https://localhost:8080/"
        },
        "id": "nf9pIQry1Em6",
        "outputId": "a5120e37-42d8-43f4-d44a-8c01eb6baa47"
      },
      "outputs": [],
      "source": [
        "# Revisar correlación específica\n",
        "print(corr_matrix['Churn_Binario'].sort_values(ascending=False))\n"
      ]
    },
    {
      "cell_type": "markdown",
      "metadata": {
        "id": "70_eOueV1kSn"
      },
      "source": [
        "# 📊 Análisis de Evasión de Clientes (Churn) - Telco\n",
        "\n",
        "Este proyecto tiene como objetivo analizar y comprender los factores que influyen en la **evasión de clientes** (*churn*) en una empresa de telecomunicaciones. Se realiza un análisis exploratorio completo, limpieza de datos, visualizaciones y correlaciones para identificar patrones clave.\n",
        "\n",
        "---\n",
        "\n",
        "## 🚀 Contenido\n",
        "\n",
        "- [Descripción](#descripción)\n",
        "- [Estructura del Proyecto](#estructura-del-proyecto)\n",
        "- [Requisitos](#requisitos)\n",
        "- [Instalación](#instalación)\n",
        "- [Uso](#uso)\n",
        "- [Resultados](#resultados)\n",
        "- [Autor](#autor)\n",
        "- [Contacto](#contacto)\n",
        "- [Licencia](#licencia)\n",
        "\n",
        "---\n",
        "\n",
        "## 📌 Descripción\n",
        "\n",
        "El problema de **evasión de clientes** es uno de los principales retos de las empresas de servicios. Este análisis busca identificar características comunes entre clientes que se dan de baja y generar *insights* para tomar decisiones estratégicas y reducir la tasa de churn.\n",
        "\n",
        "El proyecto incluye:\n",
        "- Limpieza y tratamiento de datos.\n",
        "- Estandarización y transformación de variables.\n",
        "- Creación de nuevas variables (e.g., cuentas diarias, binarización).\n",
        "- Análisis exploratorio con estadísticas descriptivas.\n",
        "- Visualización de patrones de evasión por variables categóricas y numéricas.\n",
        "- Análisis de correlación entre variables clave.\n",
        "- Conclusiones y recomendaciones estratégicas.\n",
        "\n",
        "---\n",
        "\n",
        "## 📂 Estructura del Proyecto\n",
        "\n",
        "📁 churn-analysis/\n",
        "│\n",
        "├── README.md\n",
        "├── churn_analysis.ipynb\n",
        "├── 📁 data/\n",
        "│ └── telco_churn.csv\n",
        "└── 📁 images/\n",
        "└── (gráficos generados)\n",
        "\n",
        "yaml\n",
        "Copiar\n",
        "Editar\n",
        "\n",
        "---\n",
        "\n",
        "## ⚙️ Requisitos\n",
        "\n",
        "- Python >= 3.8\n",
        "- Pandas\n",
        "- Matplotlib\n",
        "- Seaborn\n",
        "- Jupyter Notebook o Google Colab\n",
        "\n",
        "---\n",
        "\n",
        "## ✅ Instalación\n",
        "\n",
        "1️⃣ Clona este repositorio:  \n",
        "```bash\n",
        "git clone https://github.com/tuusuario/churn-analysis.git\n",
        "cd churn-analysis\n",
        "2️⃣ Instala las dependencias necesarias:\n",
        "\n",
        "bash\n",
        "Copiar\n",
        "Editar\n",
        "pip install pandas matplotlib seaborn\n",
        "3️⃣ Abre el notebook:\n",
        "\n",
        "bash\n",
        "Copiar\n",
        "Editar\n",
        "jupyter notebook churn_analysis.ipynb\n",
        "▶️ Uso\n",
        "Ejecuta el notebook paso a paso.\n",
        "\n",
        "Sigue cada sección: limpieza, análisis exploratorio, visualizaciones y conclusiones.\n",
        "\n",
        "Personaliza el análisis cambiando parámetros o columnas según tus necesidades.\n",
        "\n",
        "📈 Resultados\n",
        "Los principales resultados incluyen:\n",
        "\n",
        "Distribución general de clientes que permanecen y clientes que se dan de baja.\n",
        "\n",
        "Relación entre churn y variables categóricas (género, tipo de contrato, método de pago).\n",
        "\n",
        "Relación entre churn y variables numéricas como facturación mensual, facturación total y duración del contrato.\n",
        "\n",
        "Identificación de correlaciones clave que pueden apoyar modelos predictivos.\n",
        "\n",
        "Conclusiones claras y recomendaciones accionables para reducir la evasión.\n",
        "\n",
        "✏️ Autor\n",
        "Jorge Henriquez Novoa\n",
        "Ingeniero Electrónico con énfasis en análisis de datos\n",
        "📍 Barranquilla, Colombia\n",
        "\n",
        "📬 Contacto\n",
        "Email: tu_email@example.com\n",
        "\n",
        "LinkedIn: Tu perfil de LinkedIn"
      ]
    }
  ],
  "metadata": {
    "colab": {
      "provenance": [],
      "toc_visible": true
    },
    "kernelspec": {
      "display_name": "Python 3",
      "name": "python3"
    },
    "language_info": {
      "name": "python",
      "version": "3.12.8"
    }
  },
  "nbformat": 4,
  "nbformat_minor": 0
}
